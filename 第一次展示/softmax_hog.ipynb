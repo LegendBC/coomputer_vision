{
 "cells": [
  {
   "cell_type": "markdown",
   "metadata": {},
   "source": [
    "# 读取文件"
   ]
  },
  {
   "cell_type": "code",
   "execution_count": 6,
   "metadata": {},
   "outputs": [],
   "source": [
    "import numpy as np\n",
    "import matplotlib.pyplot as plt\n",
    "import random\n",
    "import math\n",
    "from numpy import *\n",
    "from sklearn.svm import LinearSVC\n",
    "\n",
    "from datetime import datetime\n",
    "\n",
    "from skimage.color import rgb2gray\n",
    "from skimage.feature import hog\n",
    "\n",
    "DATA_PATH = \"D:/学习/课程资料/计算机视觉/cifar-10-python/cifar-10-batches-py/\"\n",
    "\n",
    "def unpack(fname):\n",
    "    import pickle\n",
    "    with open(fname, \"rb\") as fin:\n",
    "        dumped = pickle.load(fin, encoding=\"bytes\")\n",
    "    return dumped\n",
    "\n",
    "def reshape(data):\n",
    "    img = np.zeros((32, 32, 3), 'uint8')\n",
    "    img[..., 0] = np.reshape(data[:1024], (32, 32))\n",
    "    img[..., 1] = np.reshape(data[1024:2048], (32, 32))\n",
    "    img[..., 2] = np.reshape(data[2048:3072], (32, 32))\n",
    "    return img\n",
    "\n",
    "N = 5\n",
    "test_num = 10000\n",
    "bestLoss = 100000\n",
    "bestWeights = 0\n",
    "loss = []\n",
    "\n",
    "batches_meta = unpack(DATA_PATH + \"batches.meta\")\n",
    "data_batches = [\n",
    "    unpack(DATA_PATH + \"data_batch_\" + str(i+1))\n",
    "    for i in range(5)\n",
    "]\n",
    "test_batch = unpack(DATA_PATH + \"test_batch\")"
   ]
  },
  {
   "cell_type": "markdown",
   "metadata": {},
   "source": [
    "# 融合"
   ]
  },
  {
   "cell_type": "code",
   "execution_count": 7,
   "metadata": {},
   "outputs": [
    {
     "name": "stderr",
     "output_type": "stream",
     "text": [
      "D:\\Anaconda\\lib\\site-packages\\skimage\\feature\\_hog.py:150: skimage_deprecation: Default value of `block_norm`==`L1` is deprecated and will be changed to `L2-Hys` in v0.15. To supress this message specify explicitly the normalization method.\n",
      "  skimage_deprecation)\n"
     ]
    }
   ],
   "source": [
    "# 将图片转换成灰度图并提取出边缘特征\n",
    "for i in range(N):\n",
    "    data_batches[i][b\"data\"] = [hog(rgb2gray(reshape(img))) for img in data_batches[i][b\"data\"]]\n",
    "\n",
    "# 将所有的图片汇总起来放到一个对象里，每个元素为一个数组，分别为hog值与分类\n",
    "data_all = {}\n",
    "labels = []\n",
    "hogs = []\n",
    "for i in range(N):\n",
    "      for j in range(10000):\n",
    "            hogs.append(data_batches[i][b\"data\"][j])\n",
    "            labels.append(data_batches[i][b\"labels\"][j])\n",
    "data_all['labels'] = labels\n",
    "data_all['data'] = hogs\n",
    "\n",
    "test_batch[b\"data\"] = [hog(rgb2gray(reshape(img))) for img in test_batch[b\"data\"]]\n",
    "\n",
    "# 将所有的测试图片汇总起来放到一个对象里，每个元素为一个数组，分别为hog值与分类\n",
    "test_all = {}\n",
    "labels = []\n",
    "hogs = []\n",
    "\n",
    "for i in range(test_num):\n",
    "      hogs.append(test_batch[b\"data\"][i])\n",
    "      labels.append(test_batch[b\"labels\"][i])\n",
    "test_all['labels'] = labels\n",
    "test_all['data'] = hogs"
   ]
  },
  {
   "cell_type": "markdown",
   "metadata": {},
   "source": [
    "# 产生W随机矩阵"
   ]
  },
  {
   "cell_type": "code",
   "execution_count": 8,
   "metadata": {},
   "outputs": [],
   "source": [
    "W = np.random.random((10,324))\n",
    "W = mat(W)"
   ]
  },
  {
   "cell_type": "markdown",
   "metadata": {},
   "source": [
    "# 设置步长开始训练"
   ]
  },
  {
   "cell_type": "code",
   "execution_count": 11,
   "metadata": {},
   "outputs": [
    {
     "name": "stdout",
     "output_type": "stream",
     "text": [
      "loss is 247.5992061099974\n",
      "loss is 248.8710907352129\n",
      "loss is 246.98213434417258\n",
      "loss is 246.51628170329033\n",
      "loss is 247.21775223207234\n",
      "loss is 244.6037500277262\n",
      "loss is 245.73318346140596\n",
      "loss is 244.0015923410047\n",
      "loss is 242.2885472613027\n",
      "loss is 242.49716456810202\n",
      "loss is 244.71373861130684\n",
      "loss is 242.1155333939568\n",
      "loss is 240.19743878132502\n",
      "loss is 242.5868226973495\n",
      "loss is 238.12597005216136\n",
      "loss is 238.2835448286767\n",
      "loss is 238.04792751621684\n",
      "loss is 241.9868164278161\n",
      "loss is 239.5762074864191\n",
      "loss is 236.90209076412324\n",
      "loss is 235.341715348287\n",
      "loss is 238.61861168755766\n",
      "loss is 237.4399005623657\n",
      "loss is 238.74329255092957\n",
      "loss is 237.62417670661046\n",
      "loss is 233.55663518233132\n",
      "loss is 231.06137196246166\n",
      "loss is 236.51535327232423\n",
      "loss is 236.41725803544227\n",
      "loss is 231.90178354581872\n",
      "loss is 233.43792518526666\n",
      "loss is 233.01844575596888\n",
      "loss is 234.76185751065137\n",
      "loss is 230.76652138562554\n",
      "loss is 231.87139605364823\n",
      "loss is 230.02296015206133\n",
      "loss is 231.43659576674008\n",
      "loss is 231.980177081941\n",
      "loss is 229.16560745555526\n",
      "loss is 231.87772630525728\n",
      "loss is 230.63300199465175\n",
      "loss is 228.40212390834475\n",
      "loss is 226.24339774912545\n",
      "loss is 226.11192322993458\n",
      "loss is 225.6566892972898\n",
      "loss is 228.23459793792398\n",
      "loss is 225.53341988680944\n",
      "loss is 223.46353451344424\n",
      "loss is 228.30282503248074\n",
      "loss is 229.72275452277123\n",
      "loss is 229.65305384022\n",
      "loss is 226.40515896439658\n",
      "loss is 228.00697053837015\n",
      "loss is 224.55555996824506\n",
      "loss is 222.21548740645272\n",
      "loss is 223.17866797303833\n",
      "loss is 222.38555223956908\n",
      "loss is 219.86006340495575\n",
      "loss is 223.02103722293012\n",
      "loss is 222.84078592506233\n",
      "loss is 223.75025067697084\n",
      "loss is 219.66484180790226\n",
      "loss is 221.45559366115575\n",
      "loss is 223.63771411813664\n",
      "loss is 221.77094713794506\n",
      "loss is 224.39732326524398\n",
      "loss is 225.00134708658112\n",
      "loss is 220.86119401306541\n",
      "loss is 221.41531394650735\n",
      "loss is 220.88758856048608\n",
      "loss is 216.4533673197062\n",
      "loss is 222.0610463788201\n",
      "loss is 219.08908575542202\n",
      "loss is 220.8300528505777\n",
      "loss is 220.28326067814098\n",
      "loss is 222.13901458085505\n",
      "loss is 215.04327106263986\n",
      "loss is 222.16167413951368\n",
      "loss is 213.3583391314842\n",
      "loss is 222.6524425934559\n",
      "loss is 215.9766258341237\n",
      "loss is 222.6272711606082\n",
      "loss is 218.12262998437254\n",
      "loss is 220.83631580947952\n",
      "loss is 219.94147614942142\n",
      "loss is 217.8431898443109\n",
      "loss is 214.18840301191025\n",
      "loss is 218.64598929836217\n",
      "loss is 217.37719877936803\n",
      "loss is 222.07526285427903\n",
      "loss is 220.70893375149473\n",
      "loss is 215.25634117239616\n",
      "loss is 223.830914447457\n",
      "loss is 220.88905161255042\n",
      "loss is 215.5463284602992\n",
      "loss is 216.2094335842179\n",
      "loss is 216.62144109880438\n",
      "loss is 213.15576116277174\n",
      "loss is 218.62575534969912\n",
      "loss is 217.2878992009053\n",
      "best loss 213.15576116277174\n"
     ]
    },
    {
     "ename": "ValueError",
     "evalue": "x and y must have same first dimension, but have shapes (100,) and (120,)",
     "output_type": "error",
     "traceback": [
      "\u001b[1;31m---------------------------------------------------------------------------\u001b[0m",
      "\u001b[1;31mValueError\u001b[0m                                Traceback (most recent call last)",
      "\u001b[1;32m<ipython-input-11-3b983f4f9dc7>\u001b[0m in \u001b[0;36m<module>\u001b[1;34m()\u001b[0m\n\u001b[0;32m     76\u001b[0m \u001b[1;33m\u001b[0m\u001b[0m\n\u001b[0;32m     77\u001b[0m \u001b[0mprint\u001b[0m \u001b[1;33m(\u001b[0m\u001b[1;34m\"best loss\"\u001b[0m\u001b[1;33m,\u001b[0m \u001b[0mbestLoss\u001b[0m\u001b[1;33m)\u001b[0m\u001b[1;33m\u001b[0m\u001b[0m\n\u001b[1;32m---> 78\u001b[1;33m \u001b[0mplt\u001b[0m\u001b[1;33m.\u001b[0m\u001b[0mplot\u001b[0m\u001b[1;33m(\u001b[0m\u001b[0mtimes\u001b[0m\u001b[1;33m,\u001b[0m \u001b[0mloss\u001b[0m\u001b[1;33m)\u001b[0m\u001b[1;33m\u001b[0m\u001b[0m\n\u001b[0m",
      "\u001b[1;32mD:\\Anaconda\\lib\\site-packages\\matplotlib\\pyplot.py\u001b[0m in \u001b[0;36mplot\u001b[1;34m(*args, **kwargs)\u001b[0m\n\u001b[0;32m   3361\u001b[0m                       mplDeprecation)\n\u001b[0;32m   3362\u001b[0m     \u001b[1;32mtry\u001b[0m\u001b[1;33m:\u001b[0m\u001b[1;33m\u001b[0m\u001b[0m\n\u001b[1;32m-> 3363\u001b[1;33m         \u001b[0mret\u001b[0m \u001b[1;33m=\u001b[0m \u001b[0max\u001b[0m\u001b[1;33m.\u001b[0m\u001b[0mplot\u001b[0m\u001b[1;33m(\u001b[0m\u001b[1;33m*\u001b[0m\u001b[0margs\u001b[0m\u001b[1;33m,\u001b[0m \u001b[1;33m**\u001b[0m\u001b[0mkwargs\u001b[0m\u001b[1;33m)\u001b[0m\u001b[1;33m\u001b[0m\u001b[0m\n\u001b[0m\u001b[0;32m   3364\u001b[0m     \u001b[1;32mfinally\u001b[0m\u001b[1;33m:\u001b[0m\u001b[1;33m\u001b[0m\u001b[0m\n\u001b[0;32m   3365\u001b[0m         \u001b[0max\u001b[0m\u001b[1;33m.\u001b[0m\u001b[0m_hold\u001b[0m \u001b[1;33m=\u001b[0m \u001b[0mwashold\u001b[0m\u001b[1;33m\u001b[0m\u001b[0m\n",
      "\u001b[1;32mD:\\Anaconda\\lib\\site-packages\\matplotlib\\__init__.py\u001b[0m in \u001b[0;36minner\u001b[1;34m(ax, *args, **kwargs)\u001b[0m\n\u001b[0;32m   1865\u001b[0m                         \u001b[1;34m\"the Matplotlib list!)\"\u001b[0m \u001b[1;33m%\u001b[0m \u001b[1;33m(\u001b[0m\u001b[0mlabel_namer\u001b[0m\u001b[1;33m,\u001b[0m \u001b[0mfunc\u001b[0m\u001b[1;33m.\u001b[0m\u001b[0m__name__\u001b[0m\u001b[1;33m)\u001b[0m\u001b[1;33m,\u001b[0m\u001b[1;33m\u001b[0m\u001b[0m\n\u001b[0;32m   1866\u001b[0m                         RuntimeWarning, stacklevel=2)\n\u001b[1;32m-> 1867\u001b[1;33m             \u001b[1;32mreturn\u001b[0m \u001b[0mfunc\u001b[0m\u001b[1;33m(\u001b[0m\u001b[0max\u001b[0m\u001b[1;33m,\u001b[0m \u001b[1;33m*\u001b[0m\u001b[0margs\u001b[0m\u001b[1;33m,\u001b[0m \u001b[1;33m**\u001b[0m\u001b[0mkwargs\u001b[0m\u001b[1;33m)\u001b[0m\u001b[1;33m\u001b[0m\u001b[0m\n\u001b[0m\u001b[0;32m   1868\u001b[0m \u001b[1;33m\u001b[0m\u001b[0m\n\u001b[0;32m   1869\u001b[0m         inner.__doc__ = _add_data_doc(inner.__doc__,\n",
      "\u001b[1;32mD:\\Anaconda\\lib\\site-packages\\matplotlib\\axes\\_axes.py\u001b[0m in \u001b[0;36mplot\u001b[1;34m(self, *args, **kwargs)\u001b[0m\n\u001b[0;32m   1526\u001b[0m         \u001b[0mkwargs\u001b[0m \u001b[1;33m=\u001b[0m \u001b[0mcbook\u001b[0m\u001b[1;33m.\u001b[0m\u001b[0mnormalize_kwargs\u001b[0m\u001b[1;33m(\u001b[0m\u001b[0mkwargs\u001b[0m\u001b[1;33m,\u001b[0m \u001b[0m_alias_map\u001b[0m\u001b[1;33m)\u001b[0m\u001b[1;33m\u001b[0m\u001b[0m\n\u001b[0;32m   1527\u001b[0m \u001b[1;33m\u001b[0m\u001b[0m\n\u001b[1;32m-> 1528\u001b[1;33m         \u001b[1;32mfor\u001b[0m \u001b[0mline\u001b[0m \u001b[1;32min\u001b[0m \u001b[0mself\u001b[0m\u001b[1;33m.\u001b[0m\u001b[0m_get_lines\u001b[0m\u001b[1;33m(\u001b[0m\u001b[1;33m*\u001b[0m\u001b[0margs\u001b[0m\u001b[1;33m,\u001b[0m \u001b[1;33m**\u001b[0m\u001b[0mkwargs\u001b[0m\u001b[1;33m)\u001b[0m\u001b[1;33m:\u001b[0m\u001b[1;33m\u001b[0m\u001b[0m\n\u001b[0m\u001b[0;32m   1529\u001b[0m             \u001b[0mself\u001b[0m\u001b[1;33m.\u001b[0m\u001b[0madd_line\u001b[0m\u001b[1;33m(\u001b[0m\u001b[0mline\u001b[0m\u001b[1;33m)\u001b[0m\u001b[1;33m\u001b[0m\u001b[0m\n\u001b[0;32m   1530\u001b[0m             \u001b[0mlines\u001b[0m\u001b[1;33m.\u001b[0m\u001b[0mappend\u001b[0m\u001b[1;33m(\u001b[0m\u001b[0mline\u001b[0m\u001b[1;33m)\u001b[0m\u001b[1;33m\u001b[0m\u001b[0m\n",
      "\u001b[1;32mD:\\Anaconda\\lib\\site-packages\\matplotlib\\axes\\_base.py\u001b[0m in \u001b[0;36m_grab_next_args\u001b[1;34m(self, *args, **kwargs)\u001b[0m\n\u001b[0;32m    404\u001b[0m                 \u001b[0mthis\u001b[0m \u001b[1;33m+=\u001b[0m \u001b[0margs\u001b[0m\u001b[1;33m[\u001b[0m\u001b[1;36m0\u001b[0m\u001b[1;33m]\u001b[0m\u001b[1;33m,\u001b[0m\u001b[1;33m\u001b[0m\u001b[0m\n\u001b[0;32m    405\u001b[0m                 \u001b[0margs\u001b[0m \u001b[1;33m=\u001b[0m \u001b[0margs\u001b[0m\u001b[1;33m[\u001b[0m\u001b[1;36m1\u001b[0m\u001b[1;33m:\u001b[0m\u001b[1;33m]\u001b[0m\u001b[1;33m\u001b[0m\u001b[0m\n\u001b[1;32m--> 406\u001b[1;33m             \u001b[1;32mfor\u001b[0m \u001b[0mseg\u001b[0m \u001b[1;32min\u001b[0m \u001b[0mself\u001b[0m\u001b[1;33m.\u001b[0m\u001b[0m_plot_args\u001b[0m\u001b[1;33m(\u001b[0m\u001b[0mthis\u001b[0m\u001b[1;33m,\u001b[0m \u001b[0mkwargs\u001b[0m\u001b[1;33m)\u001b[0m\u001b[1;33m:\u001b[0m\u001b[1;33m\u001b[0m\u001b[0m\n\u001b[0m\u001b[0;32m    407\u001b[0m                 \u001b[1;32myield\u001b[0m \u001b[0mseg\u001b[0m\u001b[1;33m\u001b[0m\u001b[0m\n\u001b[0;32m    408\u001b[0m \u001b[1;33m\u001b[0m\u001b[0m\n",
      "\u001b[1;32mD:\\Anaconda\\lib\\site-packages\\matplotlib\\axes\\_base.py\u001b[0m in \u001b[0;36m_plot_args\u001b[1;34m(self, tup, kwargs)\u001b[0m\n\u001b[0;32m    381\u001b[0m             \u001b[0mx\u001b[0m\u001b[1;33m,\u001b[0m \u001b[0my\u001b[0m \u001b[1;33m=\u001b[0m \u001b[0mindex_of\u001b[0m\u001b[1;33m(\u001b[0m\u001b[0mtup\u001b[0m\u001b[1;33m[\u001b[0m\u001b[1;33m-\u001b[0m\u001b[1;36m1\u001b[0m\u001b[1;33m]\u001b[0m\u001b[1;33m)\u001b[0m\u001b[1;33m\u001b[0m\u001b[0m\n\u001b[0;32m    382\u001b[0m \u001b[1;33m\u001b[0m\u001b[0m\n\u001b[1;32m--> 383\u001b[1;33m         \u001b[0mx\u001b[0m\u001b[1;33m,\u001b[0m \u001b[0my\u001b[0m \u001b[1;33m=\u001b[0m \u001b[0mself\u001b[0m\u001b[1;33m.\u001b[0m\u001b[0m_xy_from_xy\u001b[0m\u001b[1;33m(\u001b[0m\u001b[0mx\u001b[0m\u001b[1;33m,\u001b[0m \u001b[0my\u001b[0m\u001b[1;33m)\u001b[0m\u001b[1;33m\u001b[0m\u001b[0m\n\u001b[0m\u001b[0;32m    384\u001b[0m \u001b[1;33m\u001b[0m\u001b[0m\n\u001b[0;32m    385\u001b[0m         \u001b[1;32mif\u001b[0m \u001b[0mself\u001b[0m\u001b[1;33m.\u001b[0m\u001b[0mcommand\u001b[0m \u001b[1;33m==\u001b[0m \u001b[1;34m'plot'\u001b[0m\u001b[1;33m:\u001b[0m\u001b[1;33m\u001b[0m\u001b[0m\n",
      "\u001b[1;32mD:\\Anaconda\\lib\\site-packages\\matplotlib\\axes\\_base.py\u001b[0m in \u001b[0;36m_xy_from_xy\u001b[1;34m(self, x, y)\u001b[0m\n\u001b[0;32m    240\u001b[0m         \u001b[1;32mif\u001b[0m \u001b[0mx\u001b[0m\u001b[1;33m.\u001b[0m\u001b[0mshape\u001b[0m\u001b[1;33m[\u001b[0m\u001b[1;36m0\u001b[0m\u001b[1;33m]\u001b[0m \u001b[1;33m!=\u001b[0m \u001b[0my\u001b[0m\u001b[1;33m.\u001b[0m\u001b[0mshape\u001b[0m\u001b[1;33m[\u001b[0m\u001b[1;36m0\u001b[0m\u001b[1;33m]\u001b[0m\u001b[1;33m:\u001b[0m\u001b[1;33m\u001b[0m\u001b[0m\n\u001b[0;32m    241\u001b[0m             raise ValueError(\"x and y must have same first dimension, but \"\n\u001b[1;32m--> 242\u001b[1;33m                              \"have shapes {} and {}\".format(x.shape, y.shape))\n\u001b[0m\u001b[0;32m    243\u001b[0m         \u001b[1;32mif\u001b[0m \u001b[0mx\u001b[0m\u001b[1;33m.\u001b[0m\u001b[0mndim\u001b[0m \u001b[1;33m>\u001b[0m \u001b[1;36m2\u001b[0m \u001b[1;32mor\u001b[0m \u001b[0my\u001b[0m\u001b[1;33m.\u001b[0m\u001b[0mndim\u001b[0m \u001b[1;33m>\u001b[0m \u001b[1;36m2\u001b[0m\u001b[1;33m:\u001b[0m\u001b[1;33m\u001b[0m\u001b[0m\n\u001b[0;32m    244\u001b[0m             raise ValueError(\"x and y can be no greater than 2-D, but have \"\n",
      "\u001b[1;31mValueError\u001b[0m: x and y must have same first dimension, but have shapes (100,) and (120,)"
     ]
    },
    {
     "data": {
      "image/png": "[encoded data removed]",
      "text/plain": [
       "<Figure size 432x288 with 1 Axes>"
      ]
     },
     "metadata": {
      "needs_background": "light"
     },
     "output_type": "display_data"
    }
   ],
   "source": [
    "#计算梯度\n",
    "def evaluate_gradient(f, x, W):\n",
    "  global bestWeights\n",
    "  global bestLoss\n",
    "  global loss\n",
    "  xmatrics = mat(x[\"data\"])\n",
    "  matrics = W*xmatrics.T\n",
    "  fx = f(matrics, x[\"labels\"]) # evaluate function value at original point\n",
    "  if (fx < bestLoss):\n",
    "      bestWeights = W\n",
    "      bestLoss = fx\n",
    "  loss.append(fx)\n",
    "#   ks = linspace(1,1000,1000)\n",
    "#   plt.plot(ks, loss)\n",
    "  print(\"loss is\", fx)\n",
    "  grad = np.zeros(W.shape)\n",
    "  h = 0.0001\n",
    "  [idx, idy] = W.shape\n",
    "\n",
    "  for i in range(idx):\n",
    "        for j in range(idy):\n",
    "            # evaluate function at x+h\n",
    "            ix = i\n",
    "            iy = j\n",
    "            old_value = W[ix, iy]\n",
    "            W[ix, iy] = old_value + h # increment by h\n",
    "            matrics = W*xmatrics.T\n",
    "            fxh = f(matrics, x[\"labels\"]) # evalute f(x + h)\n",
    "            W[ix, iy] = old_value # restore to previous value (very important!)\n",
    "\n",
    "            # compute the partial derivative\n",
    "            grad[ix, iy] = (fxh - fx) / h # the slope\n",
    "            # W += - 0.1 * mat(grad)\n",
    "  return mat(grad)\n",
    "\n",
    "#定义softmax 损失函数\n",
    "def loss_fun(data, labelList):\n",
    "    [x, y] = data.shape\n",
    "    L = 0\n",
    "    for i in range(0, y):\n",
    "          sum = 0\n",
    "          for j in range(0, x):\n",
    "                sum += math.exp(data[j, i])\n",
    "          L += -math.log10(math.exp(data[labelList[i], i]) / sum)\n",
    "    return L\n",
    "\n",
    "#进行图片采样\n",
    "def pics_sample(data, num):\n",
    "      res = {}\n",
    "      labelList = []\n",
    "      dataList = []\n",
    "      for i in range(0, num):\n",
    "            randomNum = random.randint(0, 10000 * N)\n",
    "            randomData = data[\"data\"][randomNum]\n",
    "            randomLabel = data[\"labels\"][randomNum]\n",
    "            labelList.append(randomLabel)\n",
    "            dataList.append(randomData)\n",
    "      res['data'] = dataList\n",
    "      res['labels'] = labelList\n",
    "      return res\n",
    "\n",
    "#设置步长\n",
    "step_size = 0.2\n",
    "i = 100\n",
    "times = linspace(1,i,i)\n",
    "\n",
    "while i > 0:\n",
    "      # 图片采样\n",
    "      data = pics_sample(data_all, 256)\n",
    "      # 计算梯度\n",
    "      weights_grad = evaluate_gradient(loss_fun, data, W)\n",
    "      # 更新梯度\n",
    "      W += - step_size * weights_grad  \n",
    "      i = i - 1\n",
    "\n",
    "pltloss = loss[20:120]"
   ]
  },
  {
   "cell_type": "code",
   "execution_count": 29,
   "metadata": {},
   "outputs": [
    {
     "name": "stdout",
     "output_type": "stream",
     "text": [
      "best loss 213.15576116277174\n"
     ]
    },
    {
     "data": {
      "text/plain": [
       "[<matplotlib.lines.Line2D at 0x1454cb44438>]"
      ]
     },
     "execution_count": 29,
     "metadata": {},
     "output_type": "execute_result"
    },
    {
     "data": {
      "image/png": "[encoded data removed]",
      "text/plain": [
       "<Figure size 432x288 with 1 Axes>"
      ]
     },
     "metadata": {
      "needs_background": "light"
     },
     "output_type": "display_data"
    }
   ],
   "source": [
    "print (\"best loss\", bestLoss)\n",
    "plt.plot(times,pltloss)"
   ]
  },
  {
   "cell_type": "markdown",
   "metadata": {},
   "source": [
    "# 检查正确率"
   ]
  },
  {
   "cell_type": "code",
   "execution_count": 12,
   "metadata": {},
   "outputs": [
    {
     "name": "stdout",
     "output_type": "stream",
     "text": [
      "right rate 0.3997\n"
     ]
    }
   ],
   "source": [
    "right_num = 0\n",
    "test_matrix = mat(test_all[\"data\"])\n",
    "test_result = bestWeights * test_matrix.T\n",
    "for j in range(10000):\n",
    "      biggest_num = -10000\n",
    "      result_label = 10\n",
    "      for i in range(10):\n",
    "            if (biggest_num < test_result[i, j]):\n",
    "                  biggest_num = test_result[i, j]\n",
    "                  result_label = i\n",
    "      if (result_label == test_all[\"labels\"][j]):\n",
    "            right_num += 1\n",
    "print(\"right rate\", right_num/10000)"
   ]
  },
  {
   "cell_type": "code",
   "execution_count": null,
   "metadata": {},
   "outputs": [],
   "source": []
  }
 ],
 "metadata": {
  "kernelspec": {
   "display_name": "Python 3",
   "language": "python",
   "name": "python3"
  },
  "language_info": {
   "codemirror_mode": {
    "name": "ipython",
    "version": 3
   },
   "file_extension": ".py",
   "mimetype": "text/x-python",
   "name": "python",
   "nbconvert_exporter": "python",
   "pygments_lexer": "ipython3",
   "version": "3.7.0"
  }
 },
 "nbformat": 4,
 "nbformat_minor": 2
}
